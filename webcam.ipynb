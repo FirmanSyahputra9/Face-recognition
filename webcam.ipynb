{
 "cells": [
  {
   "cell_type": "code",
   "execution_count": 8,
   "id": "34291bef",
   "metadata": {},
   "outputs": [
    {
     "name": "stdout",
     "output_type": "stream",
     "text": [
      "Requirement already satisfied: opencv-python in c:\\users\\firman\\appdata\\local\\programs\\python\\python312\\lib\\site-packages (4.10.0.84)\n",
      "Requirement already satisfied: scikit-image in c:\\users\\firman\\appdata\\local\\programs\\python\\python312\\lib\\site-packages (0.25.2)\n",
      "Requirement already satisfied: numpy>=1.21.2 in c:\\users\\firman\\appdata\\local\\programs\\python\\python312\\lib\\site-packages (from opencv-python) (2.1.0)\n",
      "Requirement already satisfied: scipy>=1.11.4 in c:\\users\\firman\\appdata\\local\\programs\\python\\python312\\lib\\site-packages (from scikit-image) (1.14.1)\n",
      "Requirement already satisfied: networkx>=3.0 in c:\\users\\firman\\appdata\\local\\programs\\python\\python312\\lib\\site-packages (from scikit-image) (3.4.2)\n",
      "Requirement already satisfied: pillow>=10.1 in c:\\users\\firman\\appdata\\local\\programs\\python\\python312\\lib\\site-packages (from scikit-image) (10.4.0)\n",
      "Requirement already satisfied: imageio!=2.35.0,>=2.33 in c:\\users\\firman\\appdata\\local\\programs\\python\\python312\\lib\\site-packages (from scikit-image) (2.37.0)\n",
      "Requirement already satisfied: tifffile>=2022.8.12 in c:\\users\\firman\\appdata\\local\\programs\\python\\python312\\lib\\site-packages (from scikit-image) (2025.6.11)\n",
      "Requirement already satisfied: packaging>=21 in c:\\users\\firman\\appdata\\local\\programs\\python\\python312\\lib\\site-packages (from scikit-image) (24.1)\n",
      "Requirement already satisfied: lazy-loader>=0.4 in c:\\users\\firman\\appdata\\local\\programs\\python\\python312\\lib\\site-packages (from scikit-image) (0.4)\n"
     ]
    }
   ],
   "source": [
    "\n",
    "!pip install opencv-python scikit-image\n",
    "\n",
    "# Import libraries\n",
    "import cv2\n",
    "import numpy as np\n",
    "from skimage.feature import hog\n",
    "from skimage import filters\n",
    "from tensorflow.keras.models import load_model\n",
    "\n"
   ]
  },
  {
   "cell_type": "code",
   "execution_count": 9,
   "id": "3bf46aca",
   "metadata": {},
   "outputs": [
    {
     "name": "stderr",
     "output_type": "stream",
     "text": [
      "WARNING:absl:Compiled the loaded model, but the compiled metrics have yet to be built. `model.compile_metrics` will be empty until you train or evaluate the model.\n",
      "WARNING:absl:Compiled the loaded model, but the compiled metrics have yet to be built. `model.compile_metrics` will be empty until you train or evaluate the model.\n",
      "WARNING:absl:Compiled the loaded model, but the compiled metrics have yet to be built. `model.compile_metrics` will be empty until you train or evaluate the model.\n"
     ]
    }
   ],
   "source": [
    "# Load the trained models\n",
    "hog_model = load_model('hog_emotion_model.h5')\n",
    "gabor_model = load_model('gabor_emotion_model.h5')\n",
    "hog_gabor_model = load_model('hog_gabor_emotion_model.h5')\n",
    "\n"
   ]
  },
  {
   "cell_type": "code",
   "execution_count": 10,
   "id": "2d9a38d2",
   "metadata": {},
   "outputs": [],
   "source": [
    "# Emotion labels\n",
    "emotions = ['angry', 'disgust', 'fear', 'happy', 'neutral', 'sad', 'surprise']\n",
    "img_size = 48\n",
    "\n"
   ]
  },
  {
   "cell_type": "code",
   "execution_count": 11,
   "id": "de0ff5d9",
   "metadata": {},
   "outputs": [],
   "source": [
    "# Feature extraction functions\n",
    "def extract_hog_features(image):\n",
    "    image = cv2.cvtColor(image, cv2.COLOR_BGR2GRAY) if len(image.shape) == 3 else image\n",
    "    features, _ = hog(image, pixels_per_cell=(8, 8), cells_per_block=(2, 2), visualize=True)\n",
    "    return features\n",
    "\n"
   ]
  },
  {
   "cell_type": "code",
   "execution_count": 12,
   "id": "057facac",
   "metadata": {},
   "outputs": [],
   "source": [
    "def extract_gabor_features(image):\n",
    "    image = cv2.cvtColor(image, cv2.COLOR_BGR2GRAY) if len(image.shape) == 3 else image\n",
    "    gabor_features = []\n",
    "    for theta in [0, np.pi/4, np.pi/2, 3*np.pi/4]:\n",
    "        gabor = filters.gabor(image, frequency=0.2, theta=theta)[1]\n",
    "        gabor_features.append(gabor.flatten())\n",
    "    return np.concatenate(gabor_features)\n",
    "\n",
    "def extract_hog_gabor_features(image):\n",
    "    hog_features = extract_hog_features(image)\n",
    "    gabor_features = extract_gabor_features(image)\n",
    "    return np.concatenate([hog_features, gabor_features])\n",
    "\n",
    "# Face detection using Haar Cascade\n",
    "face_cascade = cv2.CascadeClassifier(cv2.data.haarcascades + 'haarcascade_frontalface_default.xml')\n",
    "\n"
   ]
  },
  {
   "cell_type": "code",
   "execution_count": 13,
   "id": "4af48bbd",
   "metadata": {},
   "outputs": [],
   "source": [
    "# Function to process frame and predict emotion\n",
    "def predict_emotion(frame, model_type='hog_gabor'):\n",
    "    gray = cv2.cvtColor(frame, cv2.COLOR_BGR2GRAY)\n",
    "    faces = face_cascade.detectMultiScale(gray, 1.3, 5)\n",
    "    \n",
    "    for (x, y, w, h) in faces:\n",
    "        # Draw rectangle around face\n",
    "        cv2.rectangle(frame, (x, y), (x+w, y+h), (255, 0, 0), 2)\n",
    "        \n",
    "        # Extract face ROI\n",
    "        face_roi = gray[y:y+h, x:x+w]\n",
    "        \n",
    "        try:\n",
    "            # Resize and preprocess\n",
    "            face_roi = cv2.resize(face_roi, (img_size, img_size))\n",
    "            face_roi = cv2.cvtColor(face_roi, cv2.COLOR_GRAY2BGR)  # Convert to 3-channel\n",
    "            \n",
    "            # Extract features based on model type\n",
    "            if model_type == 'hog':\n",
    "                features = extract_hog_features(face_roi)\n",
    "                model = hog_model\n",
    "            elif model_type == 'gabor':\n",
    "                features = extract_gabor_features(face_roi)\n",
    "                model = gabor_model\n",
    "            else:  # hog_gabor\n",
    "                features = extract_hog_gabor_features(face_roi)\n",
    "                model = hog_gabor_model\n",
    "            \n",
    "            # Predict emotion\n",
    "            features = np.expand_dims(features, axis=0)\n",
    "            prediction = model.predict(features, verbose=0)\n",
    "            emotion_idx = np.argmax(prediction)\n",
    "            emotion = emotions[emotion_idx]\n",
    "            confidence = np.max(prediction)\n",
    "            \n",
    "            # Display emotion and confidence\n",
    "            cv2.putText(frame, f\"{emotion} ({confidence:.2f})\", (x, y-10), \n",
    "                        cv2.FONT_HERSHEY_SIMPLEX, 0.9, (0, 255, 0), 2)\n",
    "            \n",
    "        except Exception as e:\n",
    "            print(f\"Error processing face: {e}\")\n",
    "    \n",
    "    return frame\n",
    "\n"
   ]
  },
  {
   "cell_type": "code",
   "execution_count": 14,
   "id": "b9c03427",
   "metadata": {},
   "outputs": [
    {
     "name": "stdout",
     "output_type": "stream",
     "text": [
      "Press 'q' to quit, 'h' for HOG, 'g' for Gabor, 'b' for HOG+Gabor\n"
     ]
    }
   ],
   "source": [
    "# Main webcam loop\n",
    "def run_webcam(model_type='hog_gabor'):\n",
    "    cap = cv2.VideoCapture(0)\n",
    "    \n",
    "    if not cap.isOpened():\n",
    "        print(\"Error: Could not open webcam.\")\n",
    "        return\n",
    "    \n",
    "    print(\"Press 'q' to quit, 'h' for HOG, 'g' for Gabor, 'b' for HOG+Gabor\")\n",
    "    \n",
    "    current_model = model_type\n",
    "    \n",
    "    while True:\n",
    "        ret, frame = cap.read()\n",
    "        if not ret:\n",
    "            break\n",
    "            \n",
    "        # Flip frame horizontally for mirror effect\n",
    "        frame = cv2.flip(frame, 1)\n",
    "        \n",
    "        # Process frame with current model\n",
    "        processed_frame = predict_emotion(frame, current_model)\n",
    "        \n",
    "        # Display model type\n",
    "        cv2.putText(processed_frame, f\"Model: {current_model.upper()}\", (10, 30), \n",
    "                    cv2.FONT_HERSHEY_SIMPLEX, 0.7, (0, 0, 255), 2)\n",
    "        \n",
    "        cv2.imshow('Emotion Detection', processed_frame)\n",
    "        \n",
    "        # Key controls\n",
    "        key = cv2.waitKey(1) & 0xFF\n",
    "        if key == ord('q'):\n",
    "            break\n",
    "        elif key == ord('h'):\n",
    "            current_model = 'hog'\n",
    "        elif key == ord('g'):\n",
    "            current_model = 'gabor'\n",
    "        elif key == ord('b'):\n",
    "            current_model = 'hog_gabor'\n",
    "    \n",
    "    cap.release()\n",
    "    cv2.destroyAllWindows()\n",
    "\n",
    "# Run the webcam with default model (HOG+Gabor)\n",
    "run_webcam()"
   ]
  }
 ],
 "metadata": {
  "kernelspec": {
   "display_name": "Python 3",
   "language": "python",
   "name": "python3"
  },
  "language_info": {
   "codemirror_mode": {
    "name": "ipython",
    "version": 3
   },
   "file_extension": ".py",
   "mimetype": "text/x-python",
   "name": "python",
   "nbconvert_exporter": "python",
   "pygments_lexer": "ipython3",
   "version": "3.12.0"
  }
 },
 "nbformat": 4,
 "nbformat_minor": 5
}
