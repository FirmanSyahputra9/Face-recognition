{
 "cells": [
  {
   "cell_type": "markdown",
   "metadata": {},
   "source": [
    "# Persiapan Awal\n",
    "Instalasi library yang diperlukan untuk proyek ini:"
   ]
  },
  {
   "cell_type": "code",
   "execution_count": null,
   "metadata": {},
   "outputs": [],
   "source": [
    "!pip install scikit-image tqdm seaborn"
   ]
  },
  {
   "cell_type": "markdown",
   "metadata": {},
   "source": [
    "# Import Library\n",
    "Mengimpor semua library yang akan digunakan dalam analisis:"
   ]
  },
  {
   "cell_type": "code",
   "execution_count": null,
   "metadata": {},
   "outputs": [],
   "source": [
    "import os\n",
    "import cv2\n",
    "import numpy as np\n",
    "from skimage import filters\n",
    "from sklearn.model_selection import train_test_split, KFold\n",
    "from sklearn.preprocessing import LabelEncoder\n",
    "from tensorflow.keras.models import Sequential\n",
    "from tensorflow.keras.layers import Dense, Dropout, BatchNormalization\n",
    "from tensorflow.keras.utils import to_categorical\n",
    "from tensorflow.keras.optimizers import Adam\n",
    "import matplotlib.pyplot as plt\n",
    "import seaborn as sns\n",
    "from sklearn.metrics import confusion_matrix\n",
    "from tqdm import tqdm"
   ]
  },
  {
   "cell_type": "markdown",
   "metadata": {},
   "source": [
    "# Konfigurasi Dataset\n",
    "Menentukan parameter dasar untuk dataset ekspresi wajah:"
   ]
  },
  {
   "cell_type": "code",
   "execution_count": null,
   "metadata": {},
   "outputs": [],
   "source": [
    "data_dir = '/kaggle/input/dataset-ekspresi/dataset-ekspresi'\n",
    "emotions = ['angry', 'disgust', 'fear', 'happy', 'neutral', 'sad', 'surprise']\n",
    "img_size = 48\n",
    "\n",
    "print(\"Memulai pelatihan model deteksi emosi dengan Gabor filter...\")"
   ]
  },
  {
   "cell_type": "markdown",
   "metadata": {},
   "source": [
    "# Augmentasi Data\n",
    "Fungsi untuk menambah variasi data training dengan berbagai transformasi:"
   ]
  },
  {
   "cell_type": "code",
   "execution_count": null,
   "metadata": {},
   "outputs": [],
   "source": [
    "def augment_image(image):\n",
    "    augmented_images = [image]\n",
    "    # Skala berbeda\n",
    "    for scale in [0.8, 1.2]:\n",
    "        scaled = cv2.resize(image, None, fx=scale, fy=scale, interpolation=cv2.INTER_LINEAR)\n",
    "        scaled = cv2.resize(scaled, (img_size, img_size))\n",
    "        augmented_images.append(scaled)\n",
    "    # Rotasi\n",
    "    for angle in [-15, 15]:\n",
    "        M = cv2.getRotationMatrix2D((img_size/2, img_size/2), angle, 1)\n",
    "        rotated = cv2.warpAffine(image, M, (img_size, img_size))\n",
    "        augmented_images.append(rotated)\n",
    "    # Flip horizontal\n",
    "    flipped = cv2.flip(image, 1)\n",
    "    augmented_images.append(flipped)\n",
    "    # Variasi kecerahan\n",
    "    for alpha in [0.8, 1.2]:\n",
    "        bright = cv2.convertScaleAbs(image, alpha=alpha, beta=0)\n",
    "        augmented_images.append(bright)\n",
    "    # Tambahkan noise\n",
    "    noise = np.random.normal(0, 25, image.shape).astype(np.uint8)\n",
    "    noisy_image = cv2.add(image, noise)\n",
    "    augmented_images.append(noisy_image)\n",
    "    return augmented_images"
   ]
  },
  {
   "cell_type": "markdown",
   "metadata": {},
   "source": [
    "# Ekstraksi Fitur Gabor\n",
    "Menggunakan Gabor filter untuk mengekstrak ciri tekstur dari gambar:"
   ]
  },
  {
   "cell_type": "code",
   "execution_count": null,
   "metadata": {},
   "outputs": [],
   "source": [
    "def extract_gabor_features(image):\n",
    "    image = cv2.cvtColor(image, cv2.COLOR_BGR2GRAY) if len(image.shape) == 3 else image\n",
    "    gabor_features = []\n",
    "    # Ekstraksi dengan berbagai orientasi\n",
    "    for theta in [0, np.pi/4, np.pi/2, 3*np.pi/4]:\n",
    "        gabor = filters.gabor(image, frequency=0.2, theta=theta)[1]\n",
    "        gabor_features.append(gabor.flatten())\n",
    "    return np.concatenate(gabor_features)"
   ]
  },
  {
   "cell_type": "markdown",
   "metadata": {},
   "source": [
    "# Memuat Dataset\n",
    "Proses loading data dan ekstraksi fitur untuk semua gambar:"
   ]
  },
  {
   "cell_type": "code",
   "execution_count": null,
   "metadata": {},
   "outputs": [],
   "source": [
    "def load_dataset():\n",
    "    data = []\n",
    "    labels = []\n",
    "    total_images = sum(len(os.listdir(os.path.join(data_dir, emotion))) for emotion in emotions)\n",
    "    with tqdm(total=total_images, desc=\"Memuat dataset Gabor\", unit=\"gambar\") as pbar:\n",
    "        for emotion in emotions:\n",
    "            folder = os.path.join(data_dir, emotion)\n",
    "            for img_name in os.listdir(folder):\n",
    "                img_path = os.path.join(folder, img_name)\n",
    "                img = cv2.imread(img_path)\n",
    "                if img is not None:\n",
    "                    img = cv2.resize(img, (img_size, img_size))\n",
    "                    augmented_imgs = augment_image(img)\n",
    "                    for aug_img in augmented_imgs:\n",
    "                        features = extract_gabor_features(aug_img)\n",
    "                        data.append(features)\n",
    "                        labels.append(emotion)\n",
    "                pbar.update(1)\n",
    "    return np.array(data), np.array(labels)"
   ]
  },
  {
   "cell_type": "markdown",
   "metadata": {},
   "source": [
    "# Persiapan Data\n",
    "Memuat data dan melakukan encoding label:"
   ]
  },
  {
   "cell_type": "code",
   "execution_count": null,
   "metadata": {},
   "outputs": [],
   "source": [
    "# Memuat data\n",
    "with tqdm(total=1, desc=\"Memproses dataset\", unit=\"dataset\") as pbar:\n",
    "    X_gabor, y_gabor = load_dataset()\n",
    "    pbar.update(1)\n",
    "\n",
    "# Encoding label\n",
    "with tqdm(total=1, desc=\"Mengencode label\", unit=\"task\") as pbar:\n",
    "    label_encoder = LabelEncoder()\n",
    "    y_gabor_encoded = label_encoder.fit_transform(y_gabor)\n",
    "    y_gabor = to_categorical(y_gabor_encoded)\n",
    "    pbar.update(1)"
   ]
  },
  {
   "cell_type": "markdown",
   "metadata": {},
   "source": [
    "# Arsitektur Model\n",
    "Membangun model neural network untuk klasifikasi:"
   ]
  },
  {
   "cell_type": "code",
   "execution_count": null,
   "metadata": {},
   "outputs": [],
   "source": [
    "def create_model(input_shape, num_classes):\n",
    "    model = Sequential([\n",
    "        Dense(1024, activation='relu', input_shape=(input_shape,)),\n",
    "        BatchNormalization(),\n",
    "        Dropout(0.5),\n",
    "        Dense(512, activation='relu'),\n",
    "        BatchNormalization(),\n",
    "        Dropout(0.4),\n",
    "        Dense(256, activation='relu'),\n",
    "        BatchNormalization(),\n",
    "        Dropout(0.3),\n",
    "        Dense(128, activation='relu'),\n",
    "        Dense(num_classes, activation='softmax')\n",
    "    ])\n",
    "    model.compile(optimizer=Adam(learning_rate=0.0001), \n",
    "                  loss='categorical_crossentropy', \n",
    "                  metrics=['accuracy'])\n",
    "    return model"
   ]
  },
  {
   "cell_type": "markdown",
   "metadata": {},
   "source": [
    "# Visualisasi Pelatihan\n",
    "Fungsi untuk memplot akurasi dan loss selama training:"
   ]
  },
  {
   "cell_type": "code",
   "execution_count": null,
   "metadata": {},
   "outputs": [],
   "source": [
    "def plot_training_history(history):\n",
    "    plt.figure(figsize=(12, 4))\n",
    "    plt.subplot(1, 2, 1)\n",
    "    plt.plot(history.history['accuracy'], label='Train Accuracy')\n",
    "    plt.plot(history.history['val_accuracy'], label='Validation Accuracy')\n",
    "    plt.title('Gabor Model Accuracy')\n",
    "    plt.xlabel('Epoch')\n",
    "    plt.ylabel('Accuracy')\n",
    "    plt.legend()\n",
    "    \n",
    "    plt.subplot(1, 2, 2)\n",
    "    plt.plot(history.history['loss'], label='Train Loss')\n",
    "    plt.plot(history.history['val_loss'], label='Validation Loss')\n",
    "    plt.title('Gabor Model Loss')\n",
    "    plt.xlabel('Epoch')\n",
    "    plt.ylabel('Loss')\n",
    "    plt.legend()\n",
    "    \n",
    "    plt.tight_layout()\n",
    "    plt.show()"
   ]
  },
  {
   "cell_type": "markdown",
   "metadata": {},
   "source": [
    "# Evaluasi Model\n",
    "Fungsi untuk menampilkan confusion matrix:"
   ]
  },
  {
   "cell_type": "code",
   "execution_count": null,
   "metadata": {},
   "outputs": [],
   "source": [
    "def plot_confusion_matrix(y_true, y_pred):\n",
    "    cm = confusion_matrix(np.argmax(y_true, axis=1), np.argmax(y_pred, axis=1))\n",
    "    plt.figure(figsize=(8, 6))\n",
    "    sns.heatmap(cm, annot=True, fmt='d', cmap='Blues', \n",
    "                xticklabels=emotions, yticklabels=emotions)\n",
    "    plt.title('Confusion Matrix')\n",
    "    plt.xlabel('Predicted')\n",
    "    plt.ylabel('True')\n",
    "    plt.show()"
   ]
  },
  {
   "cell_type": "markdown",
   "metadata": {},
   "source": [
    "# Cross Validation\n",
    "Implementasi k-fold cross validation untuk evaluasi model:"
   ]
  },
  {
   "cell_type": "code",
   "execution_count": null,
   "metadata": {},
   "outputs": [],
   "source": [
    "num_classes = len(emotions)\n",
    "kf = KFold(n_splits=5, shuffle=True, random_state=42)\n",
    "\n",
    "def train_with_cross_validation(X, y):\n",
    "    fold_accuracies = []\n",
    "    best_model = None\n",
    "    best_val_accuracy = 0\n",
    "    best_history = None\n",
    "    \n",
    "    for fold_no, (train_idx, val_idx) in enumerate(tqdm(kf.split(X), total=5, \n",
    "                                                      desc=\"Cross-Validation\", unit=\"fold\")):\n",
    "        X_train, X_val = X[train_idx], X[val_idx]\n",
    "        y_train, y_val = y[train_idx], y[val_idx]\n",
    "        \n",
    "        model = create_model(X_train.shape[1], num_classes)\n",
    "        history = model.fit(X_train, y_train, \n",
    "                          epochs=100, \n",
    "                          batch_size=64, \n",
    "                          validation_data=(X_val, y_val), \n",
    "                          verbose=0, \n",
    "                          callbacks=[tqdm_callback])\n",
    "        \n",
    "        score = model.evaluate(X_val, y_val, verbose=0)\n",
    "        fold_accuracies.append(score[1])\n",
    "        \n",
    "        if score[1] > best_val_accuracy:\n",
    "            best_val_accuracy = score[1]\n",
    "            best_model = model\n",
    "            best_history = history\n",
    "    \n",
    "    avg_accuracy = np.mean(fold_accuracies) * 100\n",
    "    print(f\"Average accuracy: {avg_accuracy:.2f}%\")\n",
    "    plot_training_history(best_history)\n",
    "    return best_model"
   ]
  },
  {
   "cell_type": "markdown",
   "metadata": {},
   "source": [
    "# Callback Progress\n",
    "Custom callback untuk menampilkan progress bar selama training:"
   ]
  },
  {
   "cell_type": "code",
   "execution_count": null,
   "metadata": {},
   "outputs": [],
   "source": [
    "from tensorflow.keras.callbacks import Callback\n",
    "\n",
    "class TqdmCallback(Callback):\n",
    "    def __init__(self, epochs):\n",
    "        self.epochs = epochs\n",
    "        self.pbar = None\n",
    "    \n",
    "    def on_train_begin(self, logs=None):\n",
    "        self.pbar = tqdm(total=self.epochs, desc=\"Training epochs\", unit=\"epoch\")\n",
    "    \n",
    "    def on_epoch_end(self, epoch, logs=None):\n",
    "        self.pbar.update(1)\n",
    "    \n",
    "    def on_train_end(self, logs=None):\n",
    "        self.pbar.close()\n",
    "\n",
    "tqdm_callback = TqdmCallback(epochs=100)"
   ]
  },
  {
   "cell_type": "markdown",
   "metadata": {},
   "source": [
    "# Pelatihan Model\n",
    "Proses utama pelatihan model dengan Gabor features:"
   ]
  },
  {
   "cell_type": "code",
   "execution_count": null,
   "metadata": {},
   "outputs": [],
   "source": [
    "with tqdm(total=1, desc=\"Training model\", unit=\"model\") as pbar:\n",
    "    gabor_model = train_with_cross_validation(X_gabor, y_gabor)\n",
    "    pbar.update(1)"
   ]
  },
  {
   "cell_type": "markdown",
   "metadata": {},
   "source": [
    "# Evaluasi Akhir\n",
    "Testing model pada data test dan visualisasi hasil:"
   ]
  },
  {
   "cell_type": "code",
   "execution_count": null,
   "metadata": {},
   "outputs": [],
   "source": [
    "with tqdm(total=1, desc=\"Evaluating model\", unit=\"model\") as pbar:\n",
    "    # Split data\n",
    "    X_gabor_train, X_gabor_test, y_gabor_train, y_gabor_test = train_test_split(\n",
    "        X_gabor, y_gabor, test_size=0.2, random_state=42)\n",
    "    \n",
    "    # Evaluasi\n",
    "    gabor_score = gabor_model.evaluate(X_gabor_test, y_gabor_test, verbose=0)\n",
    "    gabor_pred = gabor_model.predict(X_gabor_test, verbose=0)\n",
    "    \n",
    "    # Visualisasi\n",
    "    plot_confusion_matrix(y_gabor_test, gabor_pred)\n",
    "    print(f\"Final Model Accuracy: {gabor_score[1]*100:.2f}%\")\n",
    "    pbar.update(1)"
   ]
  },
  {
   "cell_type": "markdown",
   "metadata": {},
   "source": [
    "# Penyimpanan Model\n",
    "Menyimpan model yang telah dilatih untuk penggunaan selanjutnya:"
   ]
  },
  {
   "cell_type": "code",
   "execution_count": null,
   "metadata": {},
   "outputs": [],
   "source": [
    "with tqdm(total=1, desc=\"Saving model\", unit=\"model\") as pbar:\n",
    "    gabor_model.save('gabor_emotion_model.h5')\n",
    "    pbar.update(1)"
   ]
  }
 ],
 "metadata": {
  "kernelspec": {
   "display_name": "Python 3",
   "language": "python",
   "name": "python3"
  },
  "language_info": {
   "codemirror_mode": {
    "name": "ipython",
    "version": 3
   },
   "file_extension": ".py",
   "mimetype": "text/x-python",
   "name": "python",
   "nbconvert_exporter": "python",
   "pygments_lexer": "ipython3",
   "version": "3.8.5"
  }
 },
 "nbformat": 4,
 "nbformat_minor": 4
}
