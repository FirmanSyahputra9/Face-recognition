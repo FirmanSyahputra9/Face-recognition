{
 "cells": [
  {
   "cell_type": "markdown",
   "metadata": {},
   "source": [
    "# Persiapan Awal\n",
    "Menginstal library yang diperlukan untuk proyek ini, seperti scikit-image, tqdm, dan seaborn."
   ]
  },
  {
   "cell_type": "code",
   "execution_count": null,
   "metadata": {},
   "outputs": [],
   "source": [
    "!pip install scikit-image tqdm seaborn"
   ]
  },
  {
   "cell_type": "markdown",
   "metadata": {},
   "source": [
    "# Impor Library\n",
    "Mengimpor semua library yang dibutuhkan untuk pemrosesan gambar, pembelajaran mesin, dan visualisasi data."
   ]
  },
  {
   "cell_type": "code",
   "execution_count": null,
   "metadata": {},
   "outputs": [],
   "source": [
    "import os\n",
    "import cv2\n",
    "import numpy as np\n",
    "from skimage.feature import hog\n",
    "from skimage import filters\n",
    "from sklearn.model_selection import train_test_split, KFold\n",
    "from sklearn.preprocessing import LabelEncoder\n",
    "from tensorflow.keras.models import Sequential\n",
    "from tensorflow.keras.layers import Dense, Dropout, BatchNormalization\n",
    "from tensorflow.keras.utils import to_categorical\n",
    "from tensorflow.keras.optimizers import Adam\n",
    "import matplotlib.pyplot as plt\n",
    "import seaborn as sns\n",
    "from sklearn.metrics import confusion_matrix\n",
    "from tqdm import tqdm"
   ]
  },
  {
   "cell_type": "markdown",
   "metadata": {},
   "source": [
    "# Konfigurasi Dataset\n",
    "Menentukan parameter dasar seperti direktori dataset, daftar emosi, dan ukuran gambar untuk pemrosesan."
   ]
  },
  {
   "cell_type": "code",
   "execution_count": null,
   "metadata": {},
   "outputs": [],
   "source": [
    "data_dir = '/kaggle/input/dataset-ekspresi/dataset-ekspresi'\n",
    "emotions = ['angry', 'disgust', 'fear', 'happy', 'neutral', 'sad', 'surprise']\n",
    "img_size = 48\n",
    "\n",
    "print(\"Memulai pelatihan model deteksi emosi dengan HOG+Gabor...\")"
   ]
  },
  {
   "cell_type": "markdown",
   "metadata": {},
   "source": [
    "# Augmentasi Data\n",
    "Fungsi untuk menghasilkan variasi gambar melalui penskalaan, rotasi, flipping, penyesuaian kecerahan, dan penambahan noise."
   ]
  },
  {
   "cell_type": "code",
   "execution_count": null,
   "metadata": {},
   "outputs": [],
   "source": [
    "def augment_image(image):\n",
    "    augmented_images = [image]\n",
    "    for scale in [0.8, 1.2]:\n",
    "        scaled = cv2.resize(image, None, fx=scale, fy=scale, interpolation=cv2.INTER_LINEAR)\n",
    "        scaled = cv2.resize(scaled, (img_size, img_size))\n",
    "        augmented_images.append(scaled)\n",
    "    for angle in [-15, 15]:\n",
    "        M = cv2.getRotationMatrix2D((img_size/2, img_size/2), angle, 1)\n",
    "        rotated = cv2.warpAffine(image, M, (img_size, img_size))\n",
    "        augmented_images.append(rotated)\n",
    "    flipped = cv2.flip(image, 1)\n",
    "    augmented_images.append(flipped)\n",
    "    for alpha in [0.8, 1.2]:\n",
    "        bright = cv2.convertScaleAbs(image, alpha=alpha, beta=0)\n",
    "        augmented_images.append(bright)\n",
    "    noise = np.random.normal(0, 25, image.shape).astype(np.uint8)\n",
    "    noisy_image = cv2.add(image, noise)\n",
    "    augmented_images.append(noisy_image)\n",
    "    return augmented_images"
   ]
  },
  {
   "cell_type": "markdown",
   "metadata": {},
   "source": [
    "# Ekstraksi Fitur HOG\n",
    "Fungsi untuk mengekstrak fitur HOG (Histogram of Oriented Gradients) dari gambar untuk menangkap pola tepi."
   ]
  },
  {
   "cell_type": "code",
   "execution_count": null,
   "metadata": {},
   "outputs": [],
   "source": [
    "def extract_hog_features(image):\n",
    "    image = cv2.cvtColor(image, cv2.COLOR_BGR2GRAY) if len(image.shape) == 3 else image\n",
    "    features, _ = hog(image, pixels_per_cell=(8, 8), cells_per_block=(2, 2), visualize=True)\n",
    "    return features"
   ]
  },
  {
   "cell_type": "markdown",
   "metadata": {},
   "source": [
    "# Ekstraksi Fitur Gabor\n",
    "Fungsi untuk mengekstrak fitur tekstur menggunakan filter Gabor dengan berbagai orientasi."
   ]
  },
  {
   "cell_type": "code",
   "execution_count": null,
   "metadata": {},
   "outputs": [],
   "source": [
    "def extract_gabor_features(image):\n",
    "    image = cv2.cvtColor(image, cv2.COLOR_BGR2GRAY) if len(image.shape) == 3 else image\n",
    "    gabor_features = []\n",
    "    for theta in [0, np.pi/4, np.pi/2, 3*np.pi/4]:\n",
    "        gabor = filters.gabor(image, frequency=0.2, theta=theta)[1]\n",
    "        gabor_features.append(gabor.flatten())\n",
    "    return np.concatenate(gabor_features)"
   ]
  },
  {
   "cell_type": "markdown",
   "metadata": {},
   "source": [
    "# Kombinasi Fitur HOG + Gabor\n",
    "Fungsi untuk menggabungkan fitur HOG dan Gabor untuk representasi gambar yang lebih kaya."
   ]
  },
  {
   "cell_type": "code",
   "execution_count": null,
   "metadata": {},
   "outputs": [],
   "source": [
    "def extract_hog_gabor_features(image):\n",
    "    hog_features = extract_hog_features(image)\n",
    "    gabor_features = extract_gabor_features(image)\n",
    "    return np.concatenate([hog_features, gabor_features])"
   ]
  },
  {
   "cell_type": "markdown",
   "metadata": {},
   "source": [
    "# Memuat dan Memproses Dataset\n",
    "Fungsi untuk memuat dataset, melakukan augmentasi, dan mengekstrak fitur HOG+Gabor dari setiap gambar."
   ]
  },
  {
   "cell_type": "code",
   "execution_count": null,
   "metadata": {},
   "outputs": [],
   "source": [
    "def load_dataset():\n",
    "    data = []\n",
    "    labels = []\n",
    "    total_images = sum(len(os.listdir(os.path.join(data_dir, emotion))) for emotion in emotions)\n",
    "    with tqdm(total=total_images, desc=\"Memuat dataset HOG+Gabor\", unit=\"gambar\") as pbar:\n",
    "        for emotion in emotions:\n",
    "            folder = os.path.join(data_dir, emotion)\n",
    "            for img_name in os.listdir(folder):\n",
    "                img_path = os.path.join(folder, img_name)\n",
    "                img = cv2.imread(img_path)\n",
    "                if img is not None:\n",
    "                    img = cv2.resize(img, (img_size, img_size))\n",
    "                    augmented_imgs = augment_image(img)\n",
    "                    for aug_img in augmented_imgs:\n",
    "                        features = extract_hog_gabor_features(aug_img)\n",
    "                        data.append(features)\n",
    "                        labels.append(emotion)\n",
    "                pbar.update(1)\n",
    "    data = np.array(data)\n",
    "    labels = np.array(labels)\n",
    "    return data, labels"
   ]
  },
  {
   "cell_type": "markdown",
   "metadata": {},
   "source": [
    "# Memuat Data\n",
    "Memproses dataset untuk menghasilkan fitur dan label yang siap digunakan untuk pelatihan."
   ]
  },
  {
   "cell_type": "code",
   "execution_count": null,
   "metadata": {},
   "outputs": [],
   "source": [
    "with tqdm(total=1, desc=\"Memproses dataset\", unit=\"dataset\") as pbar:\n",
    "    X_hog_gabor, y_hog_gabor = load_dataset()\n",
    "    pbar.update(1)"
   ]
  },
  {
   "cell_type": "markdown",
   "metadata": {},
   "source": [
    "# Encoding Label\n",
    "Mengubah label emosi menjadi format numerik dan one-hot encoding untuk pelatihan model."
   ]
  },
  {
   "cell_type": "code",
   "execution_count": null,
   "metadata": {},
   "outputs": [],
   "source": [
    "with tqdm(total=1, desc=\"Mengencode label\", unit=\"tugas\") as pbar:\n",
    "    label_encoder = LabelEncoder()\n",
    "    y_hog_gabor_encoded = label_encoder.fit_transform(y_hog_gabor)\n",
    "    y_hog_gabor = to_categorical(y_hog_gabor_encoded)\n",
    "    pbar.update(1)"
   ]
  },
  {
   "cell_type": "markdown",
   "metadata": {},
   "source": [
    "# Definisi Model Neural Network\n",
    "Membangun arsitektur model neural network dengan lapisan dense, batch normalization, dan dropout."
   ]
  },
  {
   "cell_type": "code",
   "execution_count": null,
   "metadata": {},
   "outputs": [],
   "source": [
    "def create_model(input_shape, num_classes):\n",
    "    model = Sequential([\n",
    "        Dense(1024, activation='relu', input_shape=(input_shape,)),\n",
    "        BatchNormalization(),\n",
    "        Dropout(0.5),\n",
    "        Dense(512, activation='relu'),\n",
    "        BatchNormalization(),\n",
    "        Dropout(0.4),\n",
    "        Dense(256, activation='relu'),\n",
    "        BatchNormalization(),\n",
    "        Dropout(0.3),\n",
    "        Dense(128, activation='relu'),\n",
    "        Dense(num_classes, activation='softmax')\n",
    "    ])\n",
    "    model.compile(optimizer=Adam(learning_rate=0.0001), loss='categorical_crossentropy', metrics=['accuracy'])\n",
    "    return model"
   ]
  },
  {
   "cell_type": "markdown",
   "metadata": {},
   "source": [
    "# Visualisasi Riwayat Pelatihan\n",
    "Fungsi untuk memvisualisasikan akurasi dan loss selama proses pelatihan model."
   ]
  },
  {
   "cell_type": "code",
   "execution_count": null,
   "metadata": {},
   "outputs": [],
   "source": [
    "def plot_training_history(history):\n",
    "    plt.figure(figsize=(12, 4))\n",
    "    plt.subplot(1, 2, 1)\n",
    "    plt.plot(history.history['accuracy'], label='Train Accuracy')\n",
    "    plt.plot(history.history['val_accuracy'], label='Validation Accuracy')\n",
    "    plt.title('HOG+Gabor Model Accuracy')\n",
    "    plt.xlabel('Epoch')\n",
    "    plt.ylabel('Accuracy')\n",
    "    plt.legend()\n",
    "    plt.subplot(1, 2, 2)\n",
    "    plt.plot(history.history['loss'], label='Train Loss')\n",
    "    plt.plot(history.history['val_loss'], label='Validation Loss')\n",
    "    plt.title('HOG+Gabor Model Loss')\n",
    "    plt.xlabel('Epoch')\n",
    "    plt.ylabel('Loss')\n",
    "    plt.legend()\n",
    "    plt.tight_layout()\n",
    "    plt.show()"
   ]
  },
  {
   "cell_type": "markdown",
   "metadata": {},
   "source": [
    "# Visualisasi Confusion Matrix\n",
    "Fungsi untuk menampilkan confusion matrix guna mengevaluasi performa model pada setiap kelas emosi."
   ]
  },
  {
   "cell_type": "code",
   "execution_count": null,
   "metadata": {},
   "outputs": [],
   "source": [
    "def plot_confusion_matrix(y_true, y_pred):\n",
    "    cm = confusion_matrix(np.argmax(y_true, axis=1), np.argmax(y_pred, axis=1))\n",
    "    plt.figure(figsize=(8, 6))\n",
    "    sns.heatmap(cm, annot=True, fmt='d', cmap='Blues', xticklabels=emotions, yticklabels=emotions)\n",
    "    plt.title('HOG+Gabor Confusion Matrix')\n",
    "    plt.xlabel('Predicted')\n",
    "    plt.ylabel('True')\n",
    "    plt.show()"
   ]
  },
  {
   "cell_type": "markdown",
   "metadata": {},
   "source": [
    "# Cross-Validation dan Pelatihan\n",
    "Melakukan pelatihan model dengan k-fold cross-validation untuk memastikan performa yang robust."
   ]
  },
  {
   "cell_type": "code",
   "execution_count": null,
   "metadata": {},
   "outputs": [],
   "source": [
    "num_classes = len(emotions)\n",
    "kf = KFold(n_splits=5, shuffle=True, random_state=42)\n",
    "\n",
    "def train_with_cross_validation(X, y):\n",
    "    fold_accuracies = []\n",
    "    best_model = None\n",
    "    best_val_accuracy = 0\n",
    "    best_history = None\n",
    "    for fold_no, (train_idx, val_idx) in enumerate(tqdm(kf.split(X), total=5, desc=\"HOG+Gabor Cross-Validation\", unit=\"fold\")):\n",
    "        X_train, X_val = X[train_idx], X[val_idx]\n",
    "        y_train, y_val = y[train_idx], y[val_idx]\n",
    "        model = create_model(X_train.shape[1], num_classes)\n",
    "        history = model.fit(X_train, y_train, epochs=100, batch_size=64, validation_data=(X_val, y_val), verbose=0, callbacks=[tqdm_callback])\n",
    "        score = model.evaluate(X_val, y_val, verbose=0)\n",
    "        fold_accuracies.append(score[1])\n",
    "        if score[1] > best_val_accuracy:\n",
    "            best_val_accuracy = score[1]\n",
    "            best_model = model\n",
    "            best_history = history\n",
    "    avg_accuracy = np.mean(fold_accuracies) * 100\n",
    "    print(f\"Akurasi rata-rata HOG+Gabor pada cross-validation: {avg_accuracy:.2f}%\")\n",
    "    plot_training_history(best_history)\n",
    "    return best_model"
   ]
  },
  {
   "cell_type": "markdown",
   "metadata": {},
   "source": [
    "# Callback untuk Progress Bar\n",
    "Membuat custom callback untuk menampilkan progress bar selama proses pelatihan setiap epoch."
   ]
  },
  {
   "cell_type": "code",
   "execution_count": null,
   "metadata": {},
   "outputs": [],
   "source": [
    "from tensorflow.keras.callbacks import Callback\n",
    "class TqdmCallback(Callback):\n",
    "    def __init__(self, epochs):\n",
    "        self.epochs = epochs\n",
    "        self.pbar = None\n",
    "    def on_train_begin(self, logs=None):\n",
    "        self.pbar = tqdm(total=self.epochs, desc=\"Training epochs\", unit=\"epoch\")\n",
    "    def on_epoch_end(self, epoch, logs=None):\n",
    "        self.pbar.update(1)\n",
    "    def on_train_end(self, logs=None):\n",
    "        self.pbar.close()\n",
    "\n",
    "tqdm_callback = TqdmCallback(epochs=100)"
   ]
  },
  {
   "cell_type": "markdown",
   "metadata": {},
   "source": [
    "# Pelatihan Model\n",
    "Melatih model menggunakan data dengan fitur HOG+Gabor dan cross-validation."
   ]
  },
  {
   "cell_type": "code",
   "execution_count": null,
   "metadata": {},
   "outputs": [],
   "source": [
    "with tqdm(total=1, desc=\"Melatih model HOG+Gabor\", unit=\"model\") as pbar:\n",
    "    hog_gabor_model = train_with_cross_validation(X_hog_gabor, y_hog_gabor)\n",
    "    pbar.update(1)"
   ]
  },
  {
   "cell_type": "markdown",
   "metadata": {},
   "source": [
    "# Evaluasi Akhir dan Confusion Matrix\n",
    "Mengevaluasi model pada data uji dan menampilkan confusion matrix untuk analisis performa."
   ]
  },
  {
   "cell_type": "code",
   "execution_count": null,
   "metadata": {},
   "outputs": [],
   "source": [
    "with tqdm(total=1, desc=\"Mengevaluasi model HOG+Gabor\", unit=\"model\") as pbar:\n",
    "    X_hog_gabor_train, X_hog_gabor_test, y_hog_gabor_train, y_hog_gabor_test = train_test_split(X_hog_gabor, y_hog_gabor, test_size=0.2, random_state=42)\n",
    "    hog_gabor_score = hog_gabor_model.evaluate(X_hog_gabor_test, y_hog_gabor_test, verbose=0)\n",
    "    hog_gabor_pred = hog_gabor_model.predict(X_hog_gabor_test, verbose=0)\n",
    "    plot_confusion_matrix(y_hog_gabor_test, hog_gabor_pred)\n",
    "    print(f\"Akurasi akhir model HOG+Gabor: {hog_gabor_score[1]*100:.2f}%\")\n",
    "    pbar.update(1)"
   ]
  },
  {
   "cell_type": "markdown",
   "metadata": {},
   "source": [
    "# Penyimpanan Model\n",
    "Menyimpan model yang telah dilatih ke file untuk penggunaan di masa depan."
   ]
  },
  {
   "cell_type": "code",
   "execution_count": null,
   "metadata": {},
   "outputs": [],
   "source": [
    "with tqdm(total=1, desc=\"Menyimpan model HOG+Gabor\", unit=\"model\") as pbar:\n",
    "    hog_gabor_model.save('hog_gabor_emotion_model.h5')\n",
    "    pbar.update(1)"
   ]
  }
 ],
 "metadata": {
  "kernelspec": {
   "display_name": "Python 3",
   "language": "python",
   "name": "python3"
  },
  "language_info": {
   "codemirror_mode": {
    "name": "ipython",
    "version": 3
   },
   "file_extension": ".py",
   "mimetype": "text/x-python",
   "name": "python",
   "nbconvert_exporter": "python",
   "pygments_lexer": "ipython3",
   "version": "3.8.5"
  }
 },
 "nbformat": 4,
 "nbformat_minor": 4
}
